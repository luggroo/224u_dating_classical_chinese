{
 "cells": [
  {
   "cell_type": "code",
   "execution_count": 15,
   "metadata": {},
   "outputs": [],
   "source": [
    "from collections import Counter\n",
    "from sklearn import naive_bayes\n",
    "import sst\n",
    "import os\n",
    "from random import shuffle\n",
    "import numpy as np\n",
    "import vsm\n",
    "import pandas as pd\n",
    "import tensorflow as tf\n",
    "import utils\n",
    "from nltk.util import bigrams\n",
    "from sklearn.linear_model import LogisticRegression\n",
    "from sklearn.metrics import classification_report\n"
   ]
  },
  {
   "cell_type": "code",
   "execution_count": 11,
   "metadata": {},
   "outputs": [],
   "source": [
    "data_home = 'process_results'\n",
    "\n",
    "ming = []\n",
    "tmp = []\n",
    "with open('./process_results/results_mingchao', 'r') as f:\n",
    "    for line in f:\n",
    "        line = line.strip()\n",
    "        if line == '':\n",
    "            ming.append(tmp)\n",
    "            tmp = []\n",
    "        else:\n",
    "            tmp.append(line)\n",
    "qin = []\n",
    "with open('./process_results/results_preqin', 'r') as f:\n",
    "    for line in f:\n",
    "        line = line.strip()\n",
    "        if line == '':\n",
    "            qin.append(tmp)\n",
    "            tmp = []\n",
    "        else:\n",
    "            tmp.append(line)"
   ]
  },
  {
   "cell_type": "markdown",
   "metadata": {},
   "source": [
    "## Dataset Splitting"
   ]
  },
  {
   "cell_type": "code",
   "execution_count": 12,
   "metadata": {},
   "outputs": [
    {
     "name": "stdout",
     "output_type": "stream",
     "text": [
      "14045\n"
     ]
    }
   ],
   "source": [
    "print(len(ming))"
   ]
  },
  {
   "cell_type": "code",
   "execution_count": 13,
   "metadata": {},
   "outputs": [
    {
     "name": "stdout",
     "output_type": "stream",
     "text": [
      "7388\n"
     ]
    }
   ],
   "source": [
    "print(len(qin))"
   ]
  },
  {
   "cell_type": "code",
   "execution_count": 16,
   "metadata": {},
   "outputs": [],
   "source": [
    "shuffle(ming)\n",
    "ming = ming[:7388]"
   ]
  },
  {
   "cell_type": "code",
   "execution_count": 18,
   "metadata": {},
   "outputs": [],
   "source": [
    "ming_train = ming[:6000]\n",
    "qin_train = qin[:6000]\n",
    "ming_test = ming[6000:]\n",
    "qin_test = qin[6000:]"
   ]
  },
  {
   "cell_type": "markdown",
   "metadata": {},
   "source": [
    "## Unigram Word Count Stats"
   ]
  },
  {
   "cell_type": "code",
   "execution_count": 20,
   "metadata": {},
   "outputs": [],
   "source": [
    "from collections import defaultdict\n",
    "\n",
    "chars = defaultdict(int)\n",
    "for par in ming_train:\n",
    "    for sent in par:\n",
    "        for char in sent:\n",
    "            if char != ' ': chars[char] += 1\n",
    "for par in qin_train:\n",
    "    for sent in par:\n",
    "        for char in sent:\n",
    "            if char != ' ': chars[char] += 1"
   ]
  },
  {
   "cell_type": "code",
   "execution_count": 40,
   "metadata": {},
   "outputs": [],
   "source": [
    "charslist = []\n",
    "for key, value in sorted(chars.items(), key=lambda pair: pair[1]):\n",
    "    charslist.append(key)\n",
    "common_chars = charslist[-1000:] #can change this"
   ]
  },
  {
   "cell_type": "code",
   "execution_count": 41,
   "metadata": {},
   "outputs": [
    {
     "data": {
      "text/plain": [
       "['道', '曰', '一', '了', '而', '人', '子', '也', '不', '之']"
      ]
     },
     "execution_count": 41,
     "metadata": {},
     "output_type": "execute_result"
    }
   ],
   "source": [
    "common_chars[-10:]"
   ]
  },
  {
   "cell_type": "code",
   "execution_count": 44,
   "metadata": {},
   "outputs": [],
   "source": [
    "def unigrams(para):\n",
    "    chars = []\n",
    "    x = np.zeros((1000,))\n",
    "    for sent in para:\n",
    "        for char in sent:\n",
    "            if char in common_chars:\n",
    "                idx = common_chars.index(char)\n",
    "                x[idx] += 1\n",
    "    return x"
   ]
  },
  {
   "cell_type": "code",
   "execution_count": 47,
   "metadata": {},
   "outputs": [
    {
     "data": {
      "text/plain": [
       "MultinomialNB(alpha=1.0, class_prior=None, fit_prior=True)"
      ]
     },
     "execution_count": 47,
     "metadata": {},
     "output_type": "execute_result"
    }
   ],
   "source": [
    "from sklearn.naive_bayes import MultinomialNB\n",
    "#Label preQin as 0s\n",
    "X = np.zeros((12000, 1000))\n",
    "y = np.zeros((12000,))\n",
    "for i in range(6000):\n",
    "    X[i] = unigrams(qin_train[i])\n",
    "    X[6000 + i] = unigrams(ming_train[i])\n",
    "    y[6000 + i] = 1\n",
    "clf = MultinomialNB()\n",
    "clf.fit(X, y)\n",
    "MultinomialNB(alpha=1.0, class_prior=None, fit_prior=True)\n"
   ]
  },
  {
   "cell_type": "code",
   "execution_count": 48,
   "metadata": {},
   "outputs": [
    {
     "data": {
      "text/plain": [
       "array([[1388,    0],\n",
       "       [ 113, 1275]])"
      ]
     },
     "execution_count": 48,
     "metadata": {},
     "output_type": "execute_result"
    }
   ],
   "source": [
    "from sklearn.metrics import confusion_matrix\n",
    "X_test = np.zeros((2776, 1000))\n",
    "y_test = np.zeros((2776,))\n",
    "for i in range(1388):\n",
    "    X_test[i] = unigrams(qin_test[i])\n",
    "    X_test[1388 + i] = unigrams(ming_test[i])\n",
    "    y_test[1388 + i] = 1\n",
    "y_pred = clf.predict(X_test)\n",
    "confusion_matrix(y_test, y_pred)"
   ]
  },
  {
   "cell_type": "markdown",
   "metadata": {},
   "source": [
    "## Bigram Word Count Stats"
   ]
  },
  {
   "cell_type": "code",
   "execution_count": 51,
   "metadata": {},
   "outputs": [],
   "source": [
    "def bigrams(para):\n",
    "    pairs = []\n",
    "    for sent in para:\n",
    "        for i in range(len(sent) - 1):\n",
    "            pairs.append((sent[i], sent[i+1]))\n",
    "        pairs.append(('<S>', sent[0]))\n",
    "        pairs.append((sent[-1], '</S>'))\n",
    "    return pairs       "
   ]
  },
  {
   "cell_type": "code",
   "execution_count": 58,
   "metadata": {},
   "outputs": [],
   "source": [
    "all_pairs = []\n",
    "for para in ming_train:\n",
    "    all_pairs.extend(bigrams(para))\n",
    "for para in qin_train:\n",
    "    all_pairs.extend(bigrams(para))\n",
    "c = Counter(all_pairs)\n",
    "common_pairs = [pair[0] for pair in c.most_common(2000)]"
   ]
  },
  {
   "cell_type": "code",
   "execution_count": 64,
   "metadata": {},
   "outputs": [
    {
     "data": {
      "text/plain": [
       "[('也', '</S>'),\n",
       " ('曰', ' '),\n",
       " (' ', '不'),\n",
       " ('道', ' '),\n",
       " ('也', ' '),\n",
       " ('之', ' '),\n",
       " ('者', ' '),\n",
       " ('來', ' '),\n",
       " ('了', '</S>'),\n",
       " ('之', '</S>'),\n",
       " ('子', ' '),\n",
       " ('人', ' '),\n",
       " ('矣', '</S>'),\n",
       " ('來', '</S>'),\n",
       " (' ', '我'),\n",
       " (' ', '一'),\n",
       " (' ', '你'),\n",
       " (' ', '只'),\n",
       " (' ', '以'),\n",
       " ('了', ' '),\n",
       " (' ', '而'),\n",
       " ('<S>', '不'),\n",
       " (' ', '有'),\n",
       " (' ', '則'),\n",
       " (' ', '大'),\n",
       " (' ', '又'),\n",
       " ('不', '知'),\n",
       " ('下', ' '),\n",
       " ('<S>', '那'),\n",
       " (' ', '是'),\n",
       " ('子', '曰'),\n",
       " (' ', '其'),\n",
       " ('<S>', '今'),\n",
       " ('時', ' '),\n",
       " ('說', ' '),\n",
       " ('西', '門'),\n",
       " ('去', ' '),\n",
       " ('而', '不'),\n",
       " ('去', '</S>'),\n",
       " ('天', '下')]"
      ]
     },
     "execution_count": 64,
     "metadata": {},
     "output_type": "execute_result"
    }
   ],
   "source": [
    "common_pairs[:40]"
   ]
  },
  {
   "cell_type": "code",
   "execution_count": 65,
   "metadata": {},
   "outputs": [],
   "source": [
    "def bigrams_wrap(para):\n",
    "    pairs = bigrams(para)\n",
    "    x = np.zeros((2000,))\n",
    "    for pair in pairs:\n",
    "        if pair in common_pairs:\n",
    "            x[common_pairs.index(pair)] += 1\n",
    "    return x"
   ]
  },
  {
   "cell_type": "code",
   "execution_count": 66,
   "metadata": {},
   "outputs": [
    {
     "data": {
      "text/plain": [
       "MultinomialNB(alpha=1.0, class_prior=None, fit_prior=True)"
      ]
     },
     "execution_count": 66,
     "metadata": {},
     "output_type": "execute_result"
    }
   ],
   "source": [
    "X = np.zeros((12000, 2000))\n",
    "y = np.zeros((12000,))\n",
    "for i in range(6000):\n",
    "    X[i] = bigrams_wrap(qin_train[i])\n",
    "    X[6000 + i] = bigrams_wrap(ming_train[i])\n",
    "    y[6000 + i] = 1\n",
    "clf = MultinomialNB()\n",
    "clf.fit(X, y)\n",
    "MultinomialNB(alpha=1.0, class_prior=None, fit_prior=True)"
   ]
  },
  {
   "cell_type": "code",
   "execution_count": 67,
   "metadata": {},
   "outputs": [
    {
     "data": {
      "text/plain": [
       "array([[1387,    1],\n",
       "       [ 113, 1275]])"
      ]
     },
     "execution_count": 67,
     "metadata": {},
     "output_type": "execute_result"
    }
   ],
   "source": [
    "X_test = np.zeros((2776, 2000))\n",
    "y_test = np.zeros((2776,))\n",
    "for i in range(1388):\n",
    "    X_test[i] = bigrams_wrap(qin_test[i])\n",
    "    X_test[1388 + i] = bigrams_wrap(ming_test[i])\n",
    "    y_test[1388 + i] = 1\n",
    "y_pred = clf.predict(X_test)\n",
    "confusion_matrix(y_test, y_pred)"
   ]
  },
  {
   "cell_type": "code",
   "execution_count": null,
   "metadata": {},
   "outputs": [],
   "source": []
  }
 ],
 "metadata": {
  "kernelspec": {
   "display_name": "Python 3",
   "language": "python",
   "name": "python3"
  },
  "language_info": {
   "codemirror_mode": {
    "name": "ipython",
    "version": 3
   },
   "file_extension": ".py",
   "mimetype": "text/x-python",
   "name": "python",
   "nbconvert_exporter": "python",
   "pygments_lexer": "ipython3",
   "version": "3.6.4"
  }
 },
 "nbformat": 4,
 "nbformat_minor": 2
}
